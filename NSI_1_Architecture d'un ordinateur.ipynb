{
 "cells": [
  {
   "cell_type": "markdown",
   "metadata": {},
   "source": [
    "# <center> Architecture d'un ordinateur </center>"
   ]
  },
  {
   "cell_type": "markdown",
   "metadata": {},
   "source": [
    "## 1. Un peu d'histoire...."
   ]
  },
  {
   "cell_type": "markdown",
   "metadata": {},
   "source": [
    "### 1.1. L'ENIAC \n",
    "Le tableau de ce qu’en 1945 on n’appelait pas encore l’informatique présente un paysage contrasté. D’un côté, la notion de calcul effectif a trouvé un cadre rigoureux grâce aux avancées d’une discipline nouvelle née dans les années 1930, la méta-mathématique. Le lambda-calcul du mathématicien **Alonzo Church** et la machine universelle (abstraite) d’**Alan Turing**, schémas dont Turing a montré l’équivalence, sont proposés en 1936 comme base de définition de l’`algorithme`, pièce maîtresse du processus calculatoire. D’un autre côté, plusieurs tentatives indépendantes visent à construire des machines électroniques ou électro-mécaniques capables d’exécuter des calculs complexes à grande vitesse. Les précurseurs en sont John Atanasoff en 1938 aux États-Unis et Konrad Zuse en 1941 en Allemagne.\n",
    "\n",
    "Ces deux courants, celui des **mathématiciens et logiciens** d’une part, et celui des **ingénieurs** d’autre part, sont issus de deux mondes séparés et s’ignorent mutuellement. Les travaux de Turing ont sans doute eu une influence sur la conception en 1943-44 du calculateur Colossus à Bletchley Park en Angleterre, mais il s’agit d’une machine spécialisée dont le seul objectif, qui sera d’ailleurs atteint, est le décryptage du code secret de la machine Lorenz, successeur de l’Enigma, utilisée par l’armée allemande. La guerre aura d’autres effets : les autorités allemandes ne soutiendront que modestement les travaux pionniers de Zuse, alors que le département américain de la Défense finance un projet ambitieux lancé en 1943 à l’Université de Pennsylvanie par **J. Presper Eckert et John Mauchly**. Cet effort aboutira à la construction d’un grand calculateur électronique, **l’ENIAC**, qui ne sera néanmoins pleinement opérationnel qu’en 1946.Il occupait une surface de 167 m<sup>2</sup> et consommait 150 kW. Sur cette machine, une multiplication était réalisée en 0,001 seconde ; de nos jours, une telle opération demande 30 nanosecondes.  \n",
    "À cette même époque (1944), l’informaticien Howard Aiken mène un autre grand projet à Harvard avec la collaboration d’IBM, mais la technique choisie est basée sur l’électromécanique. Bien plus fiable que les tubes électroniques, cette voie ne sera toutefois pas poursuivie, mais l’expérience acquise sera exploitée plus tard par IBM dans la conception de ses premiers ordinateurs.  \n",
    "<img src=\"img/eniac.jpg\" />   \n",
    "<center>L’ENIAC (Electronic Numerical Integrator And Computer) à Philadelphie. Exemple d’un ordinateur câblé. </center> \n",
    "<center> Crédits : U.S. Army Photo / Public Domain via Wikimedia </center>\n",
    "\n",
    "\n",
    "### 1.2. L'architecture von Neumann\n",
    "Dans les années 1945, <span style=\"color: red\" >John Von Neumann </span> définit l’architecture des ordinateurs dits à programme enregistré. Ces ordinateurs se distinguent de leurs prédécesseurs par le fait qu’ils disposent d’un **programme composé d’instructions** qui doivent être placées dans une mémoire. Chaque instruction définit une action à réaliser sur des données, par exemple une addition entre deux nombres. Auparavant, **les premiers ordinateurs n’étaient pas programmables**. Ils n’exécutaient qu’un seul programme câblé dans l’ordinateur. Chaque exécution d’un nouveau programme nécessitait de recâbler l’ordinateur.  \n",
    "<span style=\"color: #58ACFA\" >L’ENIAC </span> (Electronic Numerical Integrator and Computer),  est l’exemple type de ce genre de machine.  \n",
    "\n",
    "\n",
    "L’architecture des ordinateurs à programme enregistré comporte les éléments suivants :  \n",
    "* Une unité centrale chargée d’exécuter les instructions d’un programme ;  \n",
    "* Une mémoire centrale qui contient les instructions d’un programme ;\n",
    "* Des unités d’entrées-sorties prenant en charge l’échange d’informations entre le couple unité centrale-mémoire centrale et l’extérieur de l’ordinateur, via des périphériques tels que le clavier, la souris, l’écran, etc.\n",
    "<img src=\"img/modele-originel2.gif\" />\n",
    "\n",
    "La première innovation est la *séparation nette* entre l’**unité de commande**, qui organise le flot de séquencement des instructions, et l’**unité arithmétique**, chargée de l’exécution proprement dite de ces instructions.  \n",
    "La seconde innovation, la plus fondamentale, est l’idée du **programme enregistré** : les instructions, au lieu d’être codées sur un support externe (ruban, cartes, tableau de connexions), sont enregistrées dans la mémoire selon un codage conventionnel. Un compteur ordinal contient l’adresse de l’instruction en cours d’exécution ; il est automatiquement incrémenté après exécution de l’instruction, et explicitement modifié par les instructions de branchement.\n",
    "\n",
    "Un emplacement de mémoire peut contenir indifféremment des instructions et des données, et une conséquence majeure (dont toute la portée n’avait probablement pas été perçue à l’époque) est qu’un programme peut être traité comme une donnée par d’autres programmes. Cette idée, présente en germe dans la machine de Turing, trouvait ici sa concrétisation.\n",
    "\n",
    "Cette architecture est toujours celle mise en œuvre dans les ordinateurs actuels.  \n",
    "\n",
    "Un documentaire d'Arte sur la vie très riche de John von Neumann est disponible : https://www.youtube.com/watch?v=c9pL_3tTW2c\n"
   ]
  },
  {
   "cell_type": "markdown",
   "metadata": {},
   "source": [
    "### 1.3. Qu’en est-il aujourd’hui ?\n",
    "\n",
    "Plus de soixante ans après son invention, le modèle d’architecture de von Neumann régit toujours l’architecture des ordinateurs. Par rapport au schéma initial, on peut noter deux évolutions.\n",
    "<img src=\"img/modele-actuel.gif\" />\n",
    "*Le modèle de von Neumann, aujourd’hui.*\n",
    "\n",
    "\n",
    "   Les entrées-sorties, initialement commandées par l’unité centrale, sont depuis le début des années 1960 sous le contrôle de processeurs autonomes (canaux d’entrée-sortie et mécanismes assimilés). Associée à la multiprogrammation (partage de la mémoire entre plusieurs programmes), cette organisation a notamment permis le développement des **systèmes en temps partagé** .\n",
    "   \n",
    "   Les ordinateurs comportent maintenant des **processeurs multiples**, qu’il s’agisse d’unités séparées ou de « cœurs » multiples à l’intérieur d’une même puce. <span style=\"color:red\"> Cette organisation permet d’atteindre une puissance globale de calcul élevée sans augmenter la vitesse des processeurs individuels, limitée par les capacités d’évacuation de la chaleur dans des circuits de plus en plus denses.</span>\n",
    "\n",
    "\n",
    "Ces deux évolutions ont pour conséquence de mettre la *mémoire, plutôt que l’unité centrale, au centre de l’ordinateur*, et d’augmenter le degré de parallélisme dans le traitement et la circulation de l’information. Mais elles ne remettent pas en cause les principes de base que sont la séparation entre traitement et commande et la notion de programme enregistré.\n",
    "\n",
    "L’accès des processeurs à la mémoire se fait à travers un *bus (non représenté sur la figure), voie d’échange assurant un transfert rapide de l’information*. Mais au cours du temps, et pour des raisons technologiques, le débit du bus a crû moins vite que le débit d’accès à la mémoire et surtout que la vitesse des processeurs. D’où un phénomène d’attente — le « goulot de von Neumann » — qui réduit les performances. Des palliatifs sont l’usage généralisé de **caches à plusieurs niveaux** (mémoire d’accès rapide, voisine du processeur, et retenant les données courantes), et le développement de machines à mémoire distribuée mais se posent alors des problèmes de cohérence pour les données en copies multiples."
   ]
  },
  {
   "cell_type": "markdown",
   "metadata": {},
   "source": [
    "## 2. La mémoire centrale  \n",
    "### 2.1 Description  \n",
    "La `mémoire centrale` contient **le programme que le processeur doit exécuter** ; ce programme est constitué d’un ensemble d’instructions et de données sur lesquelles les instructions vont agir.\n",
    "\n",
    "Données et instructions sont codées sous forme de **chaînes binaires** et sont contenues dans des mots de la mémoire. Un mot est un emplacement de la mémoire, constitué d’un nombre fixe d’octets, typiquement 4 ou 8 ; <span style=\"color:red\"> il contient une information (instruction ou donnée) et il est identifié de façon unique par une adresse <span>.  \n",
    "    \n",
    "Cette adresse permet au processeur de nommer le mot qu’il souhaite utiliser. Ce nom est le rang du mot dans la mémoire ; ainsi le processeur désigne le mot 0, le mot 1, le mot 2, etc. Finalement, la mémoire centrale peut être vue **comme un tableau de mots**, chaque mot étant désigné par son rang dans le tableau.\n",
    "\n",
    "Le processeur utilise cette adresse pour désigner le mot sur lequel il doit agir. Le processeur peut demander à   \n",
    "* **lire** un mot auquel cas il va obtenir comme information le contenu de ce mot, \n",
    "* **écrire** dans un mot auquel cas il va enregistrer une information dans ce mot.\n",
    "\n",
    "Le processeur communique avec la mémoire centrale par l’intermédiaire d’un `bus` de communication. Un bus est un support de communication permettant l’échange d’informations entre deux composants. Par exemple, en se référant à la figure 3 ci-dessous, si le processeur désire lire un mot d’adresse 7, il va placer sur le bus l’adresse 7 et activer la commande « lecture » ; la mémoire en retour place sur le bus la donnée contenue dans le mot d’adresse 7, soit 128.\n",
    "<img src=\"img/memoire-centrale.png\" />  "
   ]
  },
  {
   "cell_type": "markdown",
   "metadata": {},
   "source": [
    "Cette mémoire centrale est aussi appelée `mémoire vive`, car c’est une mémoire volatile : le contenu des mots disparait s’il n’y a plus d’alimentation électrique de l’ordinateur. On la désigne aussi sous le nom de `RAM` pour *Random Access Memory*.\n",
    "\n",
    "Elle est caractérisée notamment par un temps d’accès et une capacité.\n",
    "\n",
    "   La capacité représente le volume global d’informations que la mémoire peut contenir, par exemple 1 **gibi**octet (Gio), soit 2<sup>30</sup> octets, soit 2<sup>30</sup> × 8 bits.\n",
    "    Le temps d’accès correspond au temps que doit attendre le processeur pour obtenir une information délivrée par la mémoire centrale.\n",
    "\n",
    "La capacité usuelle d’une mémoire centrale sur un ordinateur personnel actuel est de 4 à 8 Gio.\n",
    "\n",
    "La RAM se présente sous forme de barrettes, un circuit imprimé de forme rectangulaire enfichable sur la carte mère et qui comporte sur ses deux faces des puces mémoires.\n",
    "<img src=\"img/barrette-memoire.png\"/>"
   ]
  },
  {
   "cell_type": "markdown",
   "metadata": {},
   "source": [
    "### 2.2. Stockage en informatique  \n",
    "La grandeur de base est le bit (binary digit). Un `bit` est un élément pouvant être égal à 0 ou à 1 (deux valeurs possibles donc).\n",
    "\n",
    "Un fichier est un ensemble de bits. Un ensemble de bits forme ce qu'on appelle un `mot binaire`.\n",
    "\n",
    "Le langage binaire est le seul que l'ordinateur comprend.\n",
    "\n",
    "Pour simplifier les grandeurs, on utilise des multiples de l'`octet` (un ensemble de 8 bit), à ne pas confondre avec la définition anglaise de l'octet qui s'écrit Byte (avec le B majuscule).\n",
    "\n",
    "Un bit ne suffisant pas pour exprimer toutes les tailles de fichiers disponibles, des unités de mesures (comme le centimètre, le mètre et le kilomètre par exemple) ont été mises en place :\n",
    "\n",
    " * Le kilo-octet (Ko) : 1 Ko équivaut à 1000 octets.\n",
    " * Le méga-octet (Mo) : 1 Mo = 1000 Ko.\n",
    " * Le giga-octet (Go) : 1 Go = 1000 Mo.\n",
    " * Le téra-octet (To) : 1 To = 1000 Go.\n",
    "\n",
    "Pour garder nos anciennes normes qui voulaient que les unités de mesures soient des puissances de 2 (1 Ko = 1024 octets par exemple), d'autres unités de mesures  ont été inventées :  \n",
    "<table border=\"1\" cellspacing=\"1\" cellpadding=\"1\" width=\"60%\" align=\"center\">\n",
    "    <thead>Tableau de conversion\n",
    "        <tr>\n",
    "            <th style=\"text-align:center\">Unité</th>\n",
    "            <th style=\"text-align:center\" >puissance</th>\n",
    "            <th>valeur</th>\n",
    "            <th>valeur approchée</th>   \n",
    "        </tr>\n",
    "    </thead>\n",
    "    <tbody>\n",
    "        <tr >\n",
    "            <td style=\"text-align:center\"> <strong>kibi</strong>-octet : (Kio)</td><td style=\"text-align:center\">2<sup><strong>10</strong></sup></td><td>1 024 octets </td><td>environ 1 Ko </td>     \n",
    "        </tr>\n",
    "       <tr >\n",
    "            <td style=\"text-align:center\"> <strong>méb</strong>i-octet (Mio)</td><td style=\"text-align:center\">2<sup><strong>20</strong></sup></td><td>1 048 576 octets </td><td>environ 1 Mo </td>      \n",
    "        </tr>\n",
    "        <tr >\n",
    "            <td style=\"text-align:center\"><strong>gibi</strong>-octet (Gio) </td><td style=\"text-align:center\">2<sup><strong>30</strong></sup></td><td>1 073 741 828 octets </td><td>environ 1 Go </td>     \n",
    "        </tr>\n",
    "        <tr >\n",
    "            <td style=\"text-align:center\"> <strong>tébi</strong>-octet (Tio)</td><td style=\"text-align:center\">2<sup><strong>40</strong></sup></td><td>1 099 511 627 776 octets </td><td>environ 1 To </td>      \n",
    "        </tr>\n",
    "     </tbody>\n",
    "</table>\n",
    "\n",
    "\n",
    "\n",
    " \n",
    "\n",
    " "
   ]
  },
  {
   "cell_type": "markdown",
   "metadata": {},
   "source": [
    "## 2. Le processeur\n",
    "\n",
    "Le `processeur` (CPU, pour Central Processing Unit) est le **cerveau de l’ordinateur**. Il permet d’exécuter des instructions codées sous forme binaire.\n",
    "\n",
    "Le processeur est un circuit électronique cadencé au rythme d’une `horloge` interne qui envoie des impulsions, appelées « top ». La `fréquence d’horloge` correspond au nombre d’impulsions par seconde. Elle s’exprime en **Hertz** (Hz). De nos jours, les processeurs possèdent par exemple une fréquence d’horloge de 2 GHz, ce qui correspond à 2 000 000 000 de battements par seconde. Le temps s’écoulant entre chaque battement constitue un cycle processeur, durant lequel le processeur exécute une *action élémentaire permettant l’exécution d’une partie d’instruction*.\n",
    "\n",
    "Le processeur est composé de plusieurs éléments :  \n",
    "* Des **unités de mémorisation** appelées `registres` qui permettent la mémorisation d’informations au sein du processeur. Leur accès est très rapide. Parmi ces registres, certains sont spécialisés, c’est-à-dire qu’ils ont un rôle précis au sein du processeur et ils ne peuvent pas être utilisés pour une autre tâche. D’autres registres, au contraire, sont des registres banalisés ; ils servent notamment à stocker au niveau du processeur des résultats de calculs intermédiaires. Ces registres banalisés sont classiquement désignés par un numéro ; ainsi le registre banalisé 1 s’appelle *R1*, le registre banalisé 2 s’appelle *R2*, etc.\n",
    "* Une **unité d’exécution** qui permet au processeur de réaliser des calculs ; elle comprend notamment un circuit appelé `Unité Arithmétique et Logique `(UAL) qui est constitué de l’ensemble des circuits arithmétiques et logiques permettant au processeur d’effectuer les opérations élémentaires telles que des additions, des soustractions, des multiplications ou des comparaisons, etc.\n",
    "* Une **unité de commande** qui cadence et pilote le travail du processeur ; ce pilotage s’effectue au rythme du signal d’horloge délivré à celle-ci et qui définit les cycles du processeur.\n",
    "* Des **unités de communication** qui permettent à l’information de circuler entre les différents composants du processeur.\n",
    "\n",
    "Il se présente sous la forme d’une puce électronique reliée à la `carte mère `de l’ordinateur grâce à un socle appelé « socket » et il est surmonté d’un dispositif dissipant la chaleur produite lors de son fonctionnement.\n",
    "<img src=\"img/processeur\"/>"
   ]
  },
  {
   "cell_type": "markdown",
   "metadata": {},
   "source": [
    "## 3. Exécuter un programme\n",
    "\n",
    "Le rôle du processeur est donc d’exécuter les instructions d’un programme placé dans la mémoire centrale. Au sein du processeur, c’est **l’unité de commande** qui a la charge de piloter les actions menant à l’exécution d’une instruction. Le processeur agit ici comme un automate ; il exécute chaque instruction les unes à la suite des autres.\n",
    "\n",
    "À ce niveau, une instruction est une *chaîne binaire* qui comprend deux grandes parties:  \n",
    "* La première partie de cette chaîne indique quelle est l’opération à réaliser, par exemple une addition, une lecture de la mémoire, le chargement du registre banalisé avec une valeur. Elle constitue le code opération de l’instruction. * La seconde partie précise quelles sont les données sur lesquelles l’action indiquée par le code opération doit être réalisée. Cette seconde partie constitue les opérandes de l’instruction. \n",
    "\n",
    "Les opérandes de l’instruction peuvent être de différentes natures. Cela peut être une valeur, une donnée contenue dans un registre banalisé du processeur ou une donnée stockée dans un mot de la mémoire centrale. Par exemple, l’instruction indique qu’il faut faire une addition entre la valeur contenue dans le registre R1 du processeur et une valeur 10. Ou l’instruction indique qu’il faut placer la valeur se trouvant dans un mot mémoire d’adresse 100 dans le registre banalisé R1.\n",
    "\n",
    "Pour chaque instruction à exécuter, le processeur réalise les trois étapes suivantes :\n",
    "\n",
    "   1. Lecture de l’instruction,\n",
    "   2. Reconnaissance de l’instruction et recherche des opérandes,\n",
    "   3. Réalisation de l’opération reconnue.\n"
   ]
  },
  {
   "cell_type": "markdown",
   "metadata": {},
   "source": [
    "Sources :   \n",
    "\n",
    "* https://interstices.info/memoire-et-unite-centrale-un-couple-dedie-a-lexecution-des-programmes/  \n",
    "* https://interstices.info/le-modele-darchitecture-de-von-neumann/\n",
    "*  https://www.vulgarisation-informatique.com/ko-mo-go.php\n"
   ]
  },
  {
   "cell_type": "code",
   "execution_count": null,
   "metadata": {},
   "outputs": [],
   "source": []
  },
  {
   "cell_type": "code",
   "execution_count": null,
   "metadata": {},
   "outputs": [],
   "source": []
  }
 ],
 "metadata": {
  "kernelspec": {
   "display_name": "Python 3",
   "language": "python",
   "name": "python3"
  },
  "language_info": {
   "codemirror_mode": {
    "name": "ipython",
    "version": 3
   },
   "file_extension": ".py",
   "mimetype": "text/x-python",
   "name": "python",
   "nbconvert_exporter": "python",
   "pygments_lexer": "ipython3",
   "version": "3.7.3"
  }
 },
 "nbformat": 4,
 "nbformat_minor": 2
}
